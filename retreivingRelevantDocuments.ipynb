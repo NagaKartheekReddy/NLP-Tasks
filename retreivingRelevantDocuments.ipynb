{
  "nbformat": 4,
  "nbformat_minor": 0,
  "metadata": {
    "colab": {
      "name": "retreivingRelevantDocuments.ipynb",
      "provenance": [],
      "collapsed_sections": [],
      "authorship_tag": "ABX9TyP8w1rWfNWOk3feYX8Rj52V",
      "include_colab_link": true
    },
    "kernelspec": {
      "name": "python3",
      "display_name": "Python 3"
    }
  },
  "cells": [
    {
      "cell_type": "markdown",
      "metadata": {
        "id": "view-in-github",
        "colab_type": "text"
      },
      "source": [
        "<a href=\"https://colab.research.google.com/github/NagaKartheekReddy/NLP-Tasks/blob/main/retreivingRelevantDocuments.ipynb\" target=\"_parent\"><img src=\"https://colab.research.google.com/assets/colab-badge.svg\" alt=\"Open In Colab\"/></a>"
      ]
    },
    {
      "cell_type": "markdown",
      "metadata": {
        "id": "6flEN2_FAm2m"
      },
      "source": [
        "# Retreiving top 100 documents relevant to user query using TFIDF model and Cosine similarity."
      ]
    },
    {
      "cell_type": "code",
      "metadata": {
        "id": "ypxnW_r088z2"
      },
      "source": [
        "import nltk\n",
        "#nltk.download('punkt')\n",
        "import string\n",
        "import time\n",
        "\n",
        "\n",
        "from sklearn.feature_extraction.text import TfidfVectorizer\n",
        "from sklearn.metrics.pairwise import cosine_similarity, linear_kernel\n",
        "#from nltk.stem.porter import PorterStemmer\n",
        "from nltk.stem.snowball import SnowballStemmer"
      ],
      "execution_count": null,
      "outputs": []
    },
    {
      "cell_type": "code",
      "metadata": {
        "colab": {
          "resources": {
            "http://localhost:8080/nbextensions/google.colab/files.js": {
              "data": "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",
              "ok": true,
              "headers": [
                [
                  "content-type",
                  "application/javascript"
                ]
              ],
              "status": 200,
              "status_text": ""
            }
          },
          "base_uri": "https://localhost:8080/",
          "height": 72
        },
        "id": "sE4MHOmk9B3i",
        "outputId": "62f4c89e-73f1-476d-9de0-1bd1a3b7f1e0"
      },
      "source": [
        "from google.colab import files\n",
        "uploaded = files.upload()"
      ],
      "execution_count": null,
      "outputs": [
        {
          "output_type": "display_data",
          "data": {
            "text/html": [
              "\n",
              "     <input type=\"file\" id=\"files-fc3ce6a2-ab57-4b1d-89ba-483880e7cf9d\" name=\"files[]\" multiple disabled\n",
              "        style=\"border:none\" />\n",
              "     <output id=\"result-fc3ce6a2-ab57-4b1d-89ba-483880e7cf9d\">\n",
              "      Upload widget is only available when the cell has been executed in the\n",
              "      current browser session. Please rerun this cell to enable.\n",
              "      </output>\n",
              "      <script src=\"/nbextensions/google.colab/files.js\"></script> "
            ],
            "text/plain": [
              "<IPython.core.display.HTML object>"
            ]
          },
          "metadata": {
            "tags": []
          }
        },
        {
          "output_type": "stream",
          "text": [
            "Saving ArticleDataset.json to ArticleDataset.json\n"
          ],
          "name": "stdout"
        }
      ]
    },
    {
      "cell_type": "code",
      "metadata": {
        "id": "jq5QlqX8zqiK"
      },
      "source": [
        "import json\n",
        "# loading data from json file\n",
        "data = next(iter(uploaded.values()))\n",
        "data = json.loads(data)\n",
        "# extracting text documents\n",
        "corpus = list(data['text'].values())"
      ],
      "execution_count": null,
      "outputs": []
    },
    {
      "cell_type": "code",
      "metadata": {
        "id": "6qdrUGOoKpYn"
      },
      "source": [
        "trans_dict = {ord(c): None for c in string.punctuation + string.digits}    \n",
        "stemmer = SnowballStemmer(language='english')"
      ],
      "execution_count": null,
      "outputs": []
    },
    {
      "cell_type": "code",
      "metadata": {
        "id": "O0Q1a4kBKcc4"
      },
      "source": [
        "def tokenize(text):\n",
        "\n",
        "  token_words = [word for word in nltk.word_tokenize(text.translate(trans_dict)) if len(word) > 1] \n",
        "  stemm_words = [stemmer.stem(item) for item in token_words]\n",
        "  return stemm_words"
      ],
      "execution_count": null,
      "outputs": []
    },
    {
      "cell_type": "code",
      "metadata": {
        "id": "o4TnCjxP53Eu"
      },
      "source": [
        "def tfidf(corpus):\n",
        "\n",
        "  # Initialize an instance of tf-idf Vectorizer\n",
        "  tfidf_vectorizer = TfidfVectorizer(tokenizer=tokenize, stop_words='english', min_df=0.001,max_df=0.5)\n",
        "  # return fitted vectorizer object\n",
        "  fitted_vectorizer=tfidf_vectorizer.fit(corpus)\n",
        "  print('Vocabulary size',fitted_vectorizer.vocabulary_.__len__())\n",
        "  # takes corpus and return document-term matrix\n",
        "  tfidf_vectorizer_vectors=fitted_vectorizer.transform(corpus)\n",
        "\n",
        "  return fitted_vectorizer , tfidf_vectorizer_vectors\n"
      ],
      "execution_count": null,
      "outputs": []
    },
    {
      "cell_type": "code",
      "metadata": {
        "colab": {
          "base_uri": "https://localhost:8080/"
        },
        "id": "TajvbXRTh3Dw",
        "outputId": "6e2e9d9a-e24e-4626-d520-f0ef1e12114f"
      },
      "source": [
        "fitted_vectorizer, tfidf_vectorizer_vectors = tfidf(corpus)"
      ],
      "execution_count": null,
      "outputs": [
        {
          "output_type": "stream",
          "text": [
            "Vocabulary size 10182\n"
          ],
          "name": "stdout"
        }
      ]
    },
    {
      "cell_type": "code",
      "metadata": {
        "id": "wlXsyirVAhT8"
      },
      "source": [
        "def documents_retreival(query, fitted_vectorizer, tfidf_vectorizer_vectors, relevant_documents=100):\n",
        "  \n",
        "  start = time.time()\n",
        "  # generating term matrix for query\n",
        "  tfidf_vectorizer_queryVector=fitted_vectorizer.transform(query)\n",
        "  # computing similarity scores\n",
        "  cosine_sim = linear_kernel(tfidf_vectorizer_vectors, tfidf_vectorizer_queryVector)\n",
        "  similarity_scores = list(enumerate(cosine_sim))\n",
        "  # sorting based on similarity scores\n",
        "  similarity_scores = sorted(similarity_scores, key=lambda x: x[1], reverse=True)\n",
        "  # printing top 100 documents title, URL, TFIDF score\n",
        "  for i in similarity_scores[:relevant_documents]:\n",
        "    idx = str(i[0])\n",
        "    print('Title:{}   URL:{}  Similarity score:{}\\n'.format(data['title'][idx], data['url'][idx], i[1]))\n",
        "  print ('Time taken to run corpus', (time.time() - start)) "
      ],
      "execution_count": null,
      "outputs": []
    },
    {
      "cell_type": "code",
      "metadata": {
        "colab": {
          "base_uri": "https://localhost:8080/"
        },
        "id": "TVB7o_dPV4ur",
        "outputId": "a5ff77a4-31a2-41c1-bde5-b41738954379"
      },
      "source": [
        "query = ['quantum computing software from IBM']\n",
        "documents_retreival(query, fitted_vectorizer, tfidf_vectorizer_vectors)"
      ],
      "execution_count": null,
      "outputs": [
        {
          "output_type": "stream",
          "text": [
            "Title:IBM unveils new commercial Q System One quantum computer   URL:https://www.themanufacturer.com/articles/ibm-unveil-new-commercial-q-system-one-quantum-computer/  Similarity score:[0.89130025]\n",
            "\n",
            "Title:Intel Introduces cryogenic control chip 'Horse Ridge' to enable control of multiple quantum bits   URL:https://techxplore.com/news/2019-12-intel-cryogenic-chip-horse-ridge.html  Similarity score:[0.46463668]\n",
            "\n",
            "Title:IBM introduces new Watson solutions and services for nine industries and professions   URL:https://www.manufacturingglobal.com/technology/ibm-introduces-new-watson-solutions-and-services-nine-industries-and-professions  Similarity score:[0.35947724]\n",
            "\n",
            "Title:IBM Investing Billions in 'Internet of Things'   URL:https://www.industryweek.com/technology-and-iiot/article/22005994/ibm-investing-billions-in-internet-of-things  Similarity score:[0.33340104]\n",
            "\n",
            "Title:An artificial intelligence algorithm can learn the laws of quantum mechanics   URL:https://techxplore.com/news/2019-11-artificial-intelligence-algorithm-laws-quantum.html  Similarity score:[0.32651059]\n",
            "\n",
            "Title:AI-Powered IIoT Solution to Help Manage and Monitor Aging Bridges, Tunnels, Highways and Railways   URL:https://www.engineering.com/AdvancedManufacturing/ArticleID/19018/AI-Powered-IIoT-Solution-to-Help-Manage-and-Monitor-Aging-Bridges-Tunnels-Highways-and-Railways.aspx  Similarity score:[0.30384575]\n",
            "\n",
            "Title:IBM announces $34bn acquisition of Red Hat   URL:https://www.manufacturingglobal.com/technology/ibm-announces-34bn-acquisition-red-hat  Similarity score:[0.29505417]\n",
            "\n",
            "Title:IBM collaborates with Herbert Smith Freehills and Australian government to pilot national blockchain   URL:https://www.manufacturingglobal.com/technology/ibm-collaborates-herbert-smith-freehills-and-australian-government-pilot-national  Similarity score:[0.25239103]\n",
            "\n",
            "Title:5 Examples of How the Industrial Internet of Things is Changing Manufacturing   URL:https://www.engineering.com/AdvancedManufacturing/ArticleID/13321/5-Examples-of-How-the-Industrial-Internet-of-Things-is-Changing-Manufacturing.aspx  Similarity score:[0.22755338]\n",
            "\n",
            "Title:IBM Tasks Watson IoT with Quality Assurance on the Factory Floor   URL:https://www.engineering.com/AdvancedManufacturing/ArticleID/14810/IBM-Tasks-Watson-IoT-with-Quality-Assurance-on-the-Factory-Floor.aspx  Similarity score:[0.21961054]\n",
            "\n",
            "Title:IBM and MIT partner on AI research lab   URL:https://www.therobotreport.com/ibm-mit-partner-ai-research-lab/  Similarity score:[0.21563333]\n",
            "\n",
            "Title:The Next 7-10 Years of IBM’s Watson   URL:https://www.therobotreport.com/the-next-7-10-years-of-ibms-watson/  Similarity score:[0.2038407]\n",
            "\n",
            "Title:UMass Dartmouth Ramps Up Research Programs   URL:https://industrytoday.com/umass-dartmouth-ramps-up-research-programs/  Similarity score:[0.2019889]\n",
            "\n",
            "Title:Technologies Of The Year -- IBM Corp.'s Nanotechnology For Semiconductor Processing   URL:https://www.industryweek.com/innovation/research-development/article/21953268/technologies-of-the-year-ibm-corps-nanotechnology-for-semiconductor-processing  Similarity score:[0.18426808]\n",
            "\n",
            "Title:The Market for PLM Services: Why Accenture thinks they can rattle IBM   URL:https://www.engineering.com/PLMERP/ArticleID/8263/The-Market-for-PLM-Services-Why-Accenture-thinks-they-can-rattle-IBM.aspx  Similarity score:[0.18272582]\n",
            "\n",
            "Title:IBM, UCSD project to research AI solutions for healthy living   URL:https://www.therobotreport.com/ibm-ucsd-project-research-ai-solutions-healthy-living/  Similarity score:[0.18245578]\n",
            "\n",
            "Title:Nature can help solve optimization problems   URL:https://techxplore.com/news/2019-10-nature-optimization-problems.html  Similarity score:[0.1748485]\n",
            "\n",
            "Title:IBM and Intel describe an experiential future   URL:https://www.therobotreport.com/ibm-and-intel-describe-an-experiential-future/  Similarity score:[0.17348433]\n",
            "\n",
            "Title:CES: Noise, hype, hustle and business as usual   URL:https://www.therobotreport.com/ces-noise-hype-hustle-and-business-as-usual/  Similarity score:[0.16188835]\n",
            "\n",
            "Title:Stanford AI Camera Offers Faster, More Efficient Image Classification   URL:https://www.therobotreport.com/stanford-ai-camera-image-classification/  Similarity score:[0.15396612]\n",
            "\n",
            "Title:IBM’s Watson Easily Wins Jeopardy!   URL:https://www.therobotreport.com/ibms-watson-easily-wins-jeopardy/  Similarity score:[0.14847733]\n",
            "\n",
            "Title:JLT Introduces Smallest Fixed-Mount Vehicle Computer   URL:https://industrytoday.com/jlt-introduces-smallest-fixed-mount-vehicle-computer/  Similarity score:[0.14660859]\n",
            "\n",
            "Title:Robots are software and software is “eating the world”   URL:https://www.therobotreport.com/robots-software-software-eating-world/  Similarity score:[0.14413118]\n",
            "\n",
            "Title:IBM Watson AI XPRIZE announces 10 semifinalist teams   URL:https://www.therobotreport.com/ibm-watson-ai-xprize-announces-10-semifinalist-teams/  Similarity score:[0.14041548]\n",
            "\n",
            "Title:Are Smartphones the Building Blocks of Industry 4.0?   URL:https://www.engineering.com/AdvancedManufacturing/ArticleID/19178/Are-Smartphones-the-Building-Blocks-of-Industry-40.aspx  Similarity score:[0.13742376]\n",
            "\n",
            "Title:PLM This Week: News from Siemens, Arena, PTC and Aras   URL:https://www.engineering.com/PLMERP/ArticleID/13766/PLM-This-Week-News-from-Siemens-Arena-PTC-and-Aras.aspx  Similarity score:[0.13112278]\n",
            "\n",
            "Title:New record set for cracking encryption keys   URL:https://techxplore.com/news/2019-12-encryption-keys.html  Similarity score:[0.12985954]\n",
            "\n",
            "Title:A new type of hybrid colloidal quantum dot/organic solar cells   URL:https://techxplore.com/news/2019-11-hybrid-colloidal-quantum-dotorganic-solar.html  Similarity score:[0.12696267]\n",
            "\n",
            "Title:CGTech Now Shipping New Release of VERICUT CAM Software   URL:https://www.engineering.com/AdvancedManufacturing/ArticleID/13876/CGTech-Now-Shipping-New-Release-of-VERICUT-CAM-Software.aspx  Similarity score:[0.12487223]\n",
            "\n",
            "Title:Three ways that edge computing can benefit manufacturing   URL:https://www.manufacturingglobal.com/technology/three-ways-edge-computing-can-benefit-manufacturing  Similarity score:[0.1234065]\n",
            "\n",
            "Title:JLT Continues Growth Strategy Under New Brand Identity   URL:https://industrytoday.com/jlt-continues-growth-strategy-under-new-brand-identity/  Similarity score:[0.12213156]\n",
            "\n",
            "Title:AI debate machine argues with itself at Cambridge Union   URL:https://techxplore.com/news/2019-11-ai-debate-machine-cambridge-union.html  Similarity score:[0.12207354]\n",
            "\n",
            "Title:Pepper delayed until summer; top execs leave   URL:https://www.therobotreport.com/pepper-delayed-until-summer-top-execs-leave/  Similarity score:[0.11872847]\n",
            "\n",
            "Title:Digital transformation: who is your company’s ‘Uber’?   URL:https://www.themanufacturer.com/articles/digital-transformation-companys-uber/  Similarity score:[0.11779541]\n",
            "\n",
            "Title:New security system to revolutionize communications privacy   URL:https://techxplore.com/news/2019-12-revolutionize-privacy.html  Similarity score:[0.11733358]\n",
            "\n",
            "Title:People: The real enabler of business growth   URL:https://www.themanufacturer.com/articles/people-the-real-enabler-of-business-growth/  Similarity score:[0.1173193]\n",
            "\n",
            "Title:PLM This Week: PTC Strengthens ThingWorx with Augmented Reality Acquisition   URL:https://www.engineering.com/PLMERP/ArticleID/10827/PLM-This-Week-PTC-Strengthens-ThingWorx-with-Augmented-Reality-Acquisition.aspx  Similarity score:[0.11705069]\n",
            "\n",
            "Title:Revolutionising manufacturing with artificial intelligence   URL:https://www.themanufacturer.com/articles/revolutionising-manufacturing-artificial-intelligence/  Similarity score:[0.11391695]\n",
            "\n",
            "Title:Across the enterprise: Tackle Industry 4.0 with edge, fog and cloud computing   URL:https://www.automationmag.com/across-the-enterprise-tackle-industry-4-0-with-edge-fog-and-cloud-computing/  Similarity score:[0.11362933]\n",
            "\n",
            "Title:Stanford Medical Innovation Conference Focuses on Robotics   URL:https://www.therobotreport.com/stanford-medical-innovation-conference-focuses-on-robotics/  Similarity score:[0.11163829]\n",
            "\n",
            "Title:Latest Production Tech: Bodine Planetary Gearmotor, Yxlon Line Detector & More   URL:https://www.engineering.com/AdvancedManufacturing/ArticleID/17419/Latest-Production-Tech-Bodine-Planetary-Gearmotor-Yxlon-Line-Detector-More.aspx  Similarity score:[0.10842623]\n",
            "\n",
            "Title:Hollow bore incremental encoder   URL:https://www.automationmag.com/357-hollow-bore-incremental-encoder/  Similarity score:[0.1048787]\n",
            "\n",
            "Title:“AI is on the verge of changing everything” said Charlie Rose on CBS 60 Minutes   URL:https://www.therobotreport.com/ai-is-on-the-verge-of-changing-everything-said-charlie-rose-on-cbs-60-minutes/  Similarity score:[0.10331793]\n",
            "\n",
            "Title:Autonomous Vehicles & The Automotive Supply Chain   URL:https://www.engineering.com/AdvancedManufacturing/ArticleID/9388/Autonomous-Vehicles-The-Automotive-Supply-Chain.aspx  Similarity score:[0.10326418]\n",
            "\n",
            "Title:SMAC in the DARQ: five trends shaping tech in 2020   URL:https://techxplore.com/news/2019-12-smac-darq-trends-tech.html  Similarity score:[0.09780149]\n",
            "\n",
            "Title:Siemens Sees Atlas 3D as Part of Additive Manufacturing Puzzle   URL:https://www.industryweek.com/technology-and-iiot/article/22028576/siemens-sees-atlas-3d-as-part-of-additive-manufacturing-puzzle  Similarity score:[0.0974789]\n",
            "\n",
            "Title:Robots can outwit us on the virtual battlefield, so let's not put them in charge of the real thing   URL:https://techxplore.com/news/2019-10-robots-outwit-virtual-battlefield-real.html  Similarity score:[0.09578168]\n",
            "\n",
            "Title:Computer scientists design a tool to identify the source of errors caused by software updates   URL:https://techxplore.com/news/2020-02-scientists-tool-source-errors-software.html  Similarity score:[0.09569927]\n",
            "\n",
            "Title:RAPID + TCT 2019: What’s New in 3D Printing Hardware and Software   URL:https://www.engineering.com/AdvancedManufacturing/ArticleID/19200/RAPID-TCT-2019-Whats-New-in-3D-Printing-Hardware-and-Software.aspx  Similarity score:[0.09544129]\n",
            "\n",
            "Title:Design software key to robotics performance, says nTopology   URL:https://www.therobotreport.com/design-software-key-robotics-performance-ntopology/  Similarity score:[0.09223154]\n",
            "\n",
            "Title:Mitsubishi Electric Automation releases MELIPC industrial computers for edge and IoT   URL:https://www.automationmag.com/mitsubishi-electric-automation-releases-melipc-industrial-computers-for-edge-and-iot/  Similarity score:[0.0915191]\n",
            "\n",
            "Title:Oxford Martin School founder and GF2045 keynote speaker James Martin dies   URL:https://www.therobotreport.com/oxford-martin-school-founder-and-gf2045-keynote-speaker-james-martin-dies/  Similarity score:[0.08856244]\n",
            "\n",
            "Title:New technology could help solve AI's 'memory bottleneck'   URL:https://techxplore.com/news/2020-02-technology-ai-memory-bottleneck.html  Similarity score:[0.0877099]\n",
            "\n",
            "Title:10 Tech-Savvy CompaniesHunting for AI/robotics Talent and IP   URL:https://www.therobotreport.com/10-tech-savvy-companies-on-the-hunt-for-ai-robotics-talent-and-ip/  Similarity score:[0.08760279]\n",
            "\n",
            "Title:Information theft via manipulating screen brightness in air-gapped computers   URL:https://techxplore.com/news/2020-02-theft-screen-brightness-air-gapped.html  Similarity score:[0.08655508]\n",
            "\n",
            "Title:What's Really Driving Apple's Recovery   URL:https://www.industryweek.com/leadership/companies-executives/article/21960994/whats-really-driving-apples-recovery  Similarity score:[0.08636931]\n",
            "\n",
            "Title:Man versus machine: Can AI do science?   URL:https://techxplore.com/news/2020-01-machine-ai-science.html  Similarity score:[0.08612136]\n",
            "\n",
            "Title:Apps could take up less space on your phone, thanks to new 'streaming' software   URL:https://techxplore.com/news/2020-02-apps-space-streaming-software.html  Similarity score:[0.08556548]\n",
            "\n",
            "Title:Averna releases solution for software management   URL:https://www.automationmag.com/averna-releases-solution-for-software-management/  Similarity score:[0.08449042]\n",
            "\n",
            "Title:Free ProNest CAM Licenses for Students   URL:https://www.engineering.com/AdvancedManufacturing/ArticleID/12343/Free-ProNest-CAM-Licenses-for-Students.aspx  Similarity score:[0.08430254]\n",
            "\n",
            "Title:To Survive in the Smart Machine Age, Change Your Thinking   URL:https://www.industryweek.com/leadership/article/22027139/to-survive-in-the-smart-machine-age-change-your-thinking  Similarity score:[0.08395929]\n",
            "\n",
            "Title:Researchers develop platform for scalable testing of autonomous vehicle safety   URL:https://techxplore.com/news/2019-10-platform-scalable-autonomous-vehicle-safety.html  Similarity score:[0.08379082]\n",
            "\n",
            "Title:Chewing over the Cognitive Factory   URL:https://www.themanufacturer.com/articles/chewing-over-the-cognitive-factory/  Similarity score:[0.08311935]\n",
            "\n",
            "Title:Brain-like computer chips could address privacy concerns and greenhouse emissions   URL:https://techxplore.com/news/2019-11-brain-like-chips-privacy-greenhouse-emissions.html  Similarity score:[0.08228012]\n",
            "\n",
            "Title:Research continues showing gains in DNA computing   URL:https://techxplore.com/news/2020-01-gains-dna.html  Similarity score:[0.08086922]\n",
            "\n",
            "Title:VIDEO: Manufacturing in the Cloud: Part Makers and IT Get to Business   URL:https://www.engineering.com/AdvancedManufacturing/ArticleID/10912/VIDEO-Manufacturing-in-the-Cloud-Part-Makers-and-IT-Get-to-Business.aspx  Similarity score:[0.08041055]\n",
            "\n",
            "Title:Microsoft to Build Artificial Intelligence into Every Product, Service it Offers   URL:https://www.industryweek.com/technology-and-iiot/article/22016113/microsoft-to-build-artificial-intelligence-into-every-product-service-it-offers  Similarity score:[0.08030014]\n",
            "\n",
            "Title:Advanced technology may indicate how brain learns faces   URL:https://techxplore.com/news/2019-12-advanced-technology-brain.html  Similarity score:[0.07993598]\n",
            "\n",
            "Title:Machine Vision Startup Raises $10.5M in Funding   URL:https://www.therobotreport.com/machine-vision-startup-105-million-funding/  Similarity score:[0.07969221]\n",
            "\n",
            "Title:Apex.OS 1.0 now available, brings ROS-based development to autonomous vehicles   URL:https://www.therobotreport.com/apex-os-1-0-available-brings-ros-2-development-self-driving-cars/  Similarity score:[0.07931165]\n",
            "\n",
            "Title:AutoForm Releases Upgraded Software for Digital Process Chain   URL:https://www.engineering.com/AdvancedManufacturing/ArticleID/18378/AutoForm-Releases-Upgraded-Software-for-Digital-Process-Chain.aspx  Similarity score:[0.07895283]\n",
            "\n",
            "Title:Siemens Partners with HP to Develop New Additive Manufacturing Software   URL:https://www.engineering.com/AdvancedManufacturing/ArticleID/15605/Siemens-Partners-with-HP-to-Develop-New-Additive-Manufacturing-Software.aspx  Similarity score:[0.07894081]\n",
            "\n",
            "Title:Singular Impressions from IROS 2013 in Tokyo   URL:https://www.therobotreport.com/singular-impressions-from-iros-2013-in-tokyo/  Similarity score:[0.07860307]\n",
            "\n",
            "Title:Mazak Certifies CNC Software Inc. as Newest VIP Partner   URL:https://www.engineering.com/AdvancedManufacturing/ArticleID/12088/Mazak-Certifies-CNC-Software-Inc-as-Newest-VIP-Partner.aspx  Similarity score:[0.07784012]\n",
            "\n",
            "Title:Why It's Not Too Late to Build Your Own Industrial Internet Platform   URL:https://www.industryweek.com/technology-and-iiot/information-technology/article/22006121/why-its-not-too-late-to-build-your-own-industrial-internet-platform  Similarity score:[0.07672837]\n",
            "\n",
            "Title:Time to Update Engineering Colleges   URL:https://www.industryweek.com/talent/education-training/article/22005835/time-to-update-engineering-colleges  Similarity score:[0.07574877]\n",
            "\n",
            "Title:Soft computers offer greater autonomy to soft robotics   URL:https://www.therobotreport.com/soft-computers-offer-greater-autonomy-soft-robotics/  Similarity score:[0.07554642]\n",
            "\n",
            "Title:The Five Most Important Manufacturing Trends   URL:https://www.industryweek.com/leadership/article/22027007/the-five-most-important-manufacturing-trends  Similarity score:[0.07473591]\n",
            "\n",
            "Title:Team finds glitch that could affect more than 100 scientific studies   URL:https://techxplore.com/news/2019-10-team-glitch-affect-scientific.html  Similarity score:[0.0745567]\n",
            "\n",
            "Title:VIDEO: Efficient Automated Bin Picking Without CAD Reference Data   URL:https://www.engineering.com/AdvancedManufacturing/ArticleID/14862/VIDEO-Efficient-Automated-Bin-Picking-Without-CAD-Reference-Data.aspx  Similarity score:[0.07366059]\n",
            "\n",
            "Title:NHTSA redefines “driver” of self-driving car   URL:https://www.therobotreport.com/nhtsa-redefines-driver-of-self-driving-car/  Similarity score:[0.07341598]\n",
            "\n",
            "Title:Is There a Technological Solution to the Manufacturing Skills Gap?   URL:https://www.engineering.com/AdvancedManufacturing/ArticleID/15442/Is-There-a-Technological-Solution-to-the-Manufacturing-Skills-Gap.aspx  Similarity score:[0.07340931]\n",
            "\n",
            "Title:3D Systems Releases New Production Machining Software   URL:https://www.engineering.com/AdvancedManufacturing/ArticleID/12036/3D-Systems-Releases-New-Production-Machining-Software.aspx  Similarity score:[0.07265361]\n",
            "\n",
            "Title:What does the factory of the future look like?   URL:https://www.themanufacturer.com/articles/what-does-the-factory-of-the-future-look-like-2/  Similarity score:[0.07252972]\n",
            "\n",
            "Title:The What, Why and How of Industrial Robot Simulation Software for Offline Programming (OLP)   URL:https://www.engineering.com/AdvancedManufacturing/ArticleID/18288/The-What-Why-and-How-of-Industrial-Robot-Simulation-Software-for-Offline-Programming-OLP.aspx  Similarity score:[0.07218689]\n",
            "\n",
            "Title:FogHorn App brings IIoT Edge Computing to Android Devices   URL:https://www.engineering.com/AdvancedManufacturing/ArticleID/18892/FogHorn-App-brings-IIoT-Edge-Computing-to-Android-Devices.aspx  Similarity score:[0.07207715]\n",
            "\n",
            "Title:Robo-Stox: A Dream Come True   URL:https://www.therobotreport.com/robo-stox-a-dream-come-true/  Similarity score:[0.0715782]\n",
            "\n",
            "Title:HP Revenue Inches Up after Years of Decline   URL:https://www.industryweek.com/finance/article/21963491/hp-revenue-inches-up-after-years-of-decline  Similarity score:[0.0709992]\n",
            "\n",
            "Title:CES 2018: Robots, AI, Massive Data, Prodigious Plans   URL:https://www.therobotreport.com/ces-2018-robots-ai-massive-data-prodigious-plans/  Similarity score:[0.07067182]\n",
            "\n",
            "Title:Waterjet Cutting CAM Software Simplifies Cutting Complex Parts   URL:https://www.engineering.com/AdvancedManufacturing/ArticleID/8930/Waterjet-Cutting-CAM-Software-Simplifies-Cutting-Complex-Parts.aspx  Similarity score:[0.07054438]\n",
            "\n",
            "Title:This object-recognition dataset stumped the world's best computer vision models   URL:https://techxplore.com/news/2019-12-object-recognition-dataset-stumped-world-vision.html  Similarity score:[0.07044865]\n",
            "\n",
            "Title:Why are JIBO, Pepper, Siri, Google Now and Cortana so important?   URL:https://www.therobotreport.com/why-are-jibo-pepper-siri-google-now-and-cortana-so-important/  Similarity score:[0.07011797]\n",
            "\n",
            "Title:Inroads in perception   URL:https://www.therobotreport.com/inroads-in-perception/  Similarity score:[0.07003223]\n",
            "\n",
            "Title:New device enables battery-free computer input at the tip of your finger   URL:https://techxplore.com/news/2019-11-device-enables-battery-free-finger.html  Similarity score:[0.06916933]\n",
            "\n",
            "Title:UJET Recognized as a Leader in Contact Center Operations Software   URL:https://industrytoday.com/ujet-recognized-as-a-leader-in-contact-center-operations-software/  Similarity score:[0.06854639]\n",
            "\n",
            "Title:Regulatory Challenges Holding Back Healthcare AI   URL:https://www.therobotreport.com/regulatory-challenges-holding-back-healthcare-ai/  Similarity score:[0.06837613]\n",
            "\n",
            "Title:Siemens Gives Clemson $357 Million in Software to Train Engineers   URL:https://www.industryweek.com/talent/education-training/article/21988080/siemens-gives-clemson-357-million-in-software-to-train-engineers  Similarity score:[0.06796662]\n",
            "\n",
            "Title:Telescope: a tool to manage bioinformatics analyses on mobile devices   URL:https://techxplore.com/news/2019-10-telescope-tool-bioinformatics-analyses-mobile.html  Similarity score:[0.06749205]\n",
            "\n",
            "Title:THIS WEEK IN QUALITY: Hardness Testing, Computer Tomographs and More   URL:https://www.engineering.com/AdvancedManufacturing/ArticleID/12820/THIS-WEEK-IN-QUALITY-Hardness-Testing-Computer-Tomographs-and-More.aspx  Similarity score:[0.06735924]\n",
            "\n",
            "Title:Rockwell Automation’s FactoryTalk AssetCentre gets disaster-ready upgrade   URL:https://www.automationmag.com/9528-rockwell-automations-factorytalk-assetcentre-gets-disaster-ready-upgrade/  Similarity score:[0.06722452]\n",
            "\n",
            "Time taken to run corpus 0.07508325576782227\n"
          ],
          "name": "stdout"
        }
      ]
    },
    {
      "cell_type": "code",
      "metadata": {
        "id": "dvx0st-U2BKK"
      },
      "source": [
        ""
      ],
      "execution_count": null,
      "outputs": []
    }
  ]
}