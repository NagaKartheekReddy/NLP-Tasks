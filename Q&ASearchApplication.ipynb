{
  "nbformat": 4,
  "nbformat_minor": 0,
  "metadata": {
    "colab": {
      "name": "Q&ASearchApplication.ipynb",
      "provenance": [],
      "collapsed_sections": [],
      "authorship_tag": "ABX9TyM+eq/z6jzMJKOOzwWT4lub",
      "include_colab_link": true
    },
    "kernelspec": {
      "name": "python3",
      "display_name": "Python 3"
    },
    "accelerator": "GPU"
  },
  "cells": [
    {
      "cell_type": "markdown",
      "metadata": {
        "id": "view-in-github",
        "colab_type": "text"
      },
      "source": [
        "<a href=\"https://colab.research.google.com/github/NagaKartheekReddy/NLP-Tasks/blob/main/Q%26ASearchApplication.ipynb\" target=\"_parent\"><img src=\"https://colab.research.google.com/assets/colab-badge.svg\" alt=\"Open In Colab\"/></a>"
      ]
    },
    {
      "cell_type": "code",
      "metadata": {
        "id": "8HjRhPYi-2hD"
      },
      "source": [
        "from google.colab import drive\n",
        "drive.mount('/content/drive')"
      ],
      "execution_count": null,
      "outputs": []
    },
    {
      "cell_type": "markdown",
      "metadata": {
        "id": "13eM-owI9ysb"
      },
      "source": [
        "# Question and Answers cognitive search application using haystack library\n",
        "\n",
        "\n",
        "1.   Dataset : https://www.kaggle.com/stanfordu/stanford-question-answering-dataset\n",
        "2. Elasticsearch DB to store the processed documents\n",
        "\n"
      ]
    },
    {
      "cell_type": "code",
      "metadata": {
        "id": "2Bh7vt-H-7j4"
      },
      "source": [
        "!pip install git+https://github.com/deepset-ai/haystack.git\n",
        "!wget --no-check-certificate https://dl.xpdfreader.com/xpdf-tools-linux-4.03.tar.gz\n",
        "!tar -xvf xpdf-tools-linux-4.03.tar.gz && sudo cp xpdf-tools-linux-4.03/bin64/pdftotext /usr/local/bin"
      ],
      "execution_count": null,
      "outputs": []
    },
    {
      "cell_type": "code",
      "metadata": {
        "id": "ijJsCp8SBPt1"
      },
      "source": [
        "# import required libraries\n",
        "from haystack.file_converter.pdf import PDFToTextConverter\n",
        "from haystack.preprocessor.utils import convert_files_to_dicts\n",
        "from haystack.preprocessor.preprocessor import PreProcessor\n",
        "\n",
        "from haystack.document_store.elasticsearch import ElasticsearchDocumentStore\n",
        "\n",
        "from haystack.retriever.sparse import ElasticsearchRetriever\n",
        "from haystack.reader.farm import FARMReader\n",
        "from haystack.finder import Finder\n",
        "\n",
        "from haystack.pipeline import ExtractiveQAPipeline"
      ],
      "execution_count": 60,
      "outputs": []
    },
    {
      "cell_type": "code",
      "metadata": {
        "colab": {
          "base_uri": "https://localhost:8080/"
        },
        "id": "lO3k3YxJsPuu",
        "outputId": "9260337b-d5e7-4653-9f28-387116402316"
      },
      "source": [
        "from farm.utils import initialize_device_settings\n",
        "\n",
        "device, n_gpu = initialize_device_settings(use_cuda=True)\n"
      ],
      "execution_count": 61,
      "outputs": [
        {
          "output_type": "stream",
          "text": [
            "02/22/2021 21:47:53 - INFO - farm.utils -   Using device: CUDA \n",
            "02/22/2021 21:47:53 - INFO - farm.utils -   Number of GPUs: 1\n",
            "02/22/2021 21:47:53 - INFO - farm.utils -   Distributed Training: False\n",
            "02/22/2021 21:47:53 - INFO - farm.utils -   Automatic Mixed Precision: None\n"
          ],
          "name": "stderr"
        }
      ]
    },
    {
      "cell_type": "code",
      "metadata": {
        "id": "uZcUrmZKCV2M"
      },
      "source": [
        "# Extracting text data from pdf document\n",
        "converter = PDFToTextConverter(remove_numeric_tables=True, valid_languages=[\"en\"])\n",
        "doc_pdf = converter.convert(file_path=f'/content/drive/MyDrive/Colab Notebooks/data_aa.pdf', meta=None)"
      ],
      "execution_count": 62,
      "outputs": []
    },
    {
      "cell_type": "code",
      "metadata": {
        "id": "NZX0snYMCroF"
      },
      "source": [
        "# Preprocessing the text\n",
        "preprocessor = PreProcessor(\n",
        "    clean_empty_lines=True,\n",
        "    clean_whitespace=True,\n",
        "    clean_header_footer=True,\n",
        "    split_by=\"passage\",\n",
        "    split_length=5,\n",
        "    split_respect_sentence_boundary=False,\n",
        "    split_overlap=0\n",
        ")\n",
        "\n",
        "processed_docs = preprocessor.process(doc_pdf)"
      ],
      "execution_count": 63,
      "outputs": []
    },
    {
      "cell_type": "code",
      "metadata": {
        "id": "T92kP46TGIBq"
      },
      "source": [
        "# starting elastic search\n",
        "! wget https://artifacts.elastic.co/downloads/elasticsearch/elasticsearch-7.9.2-linux-x86_64.tar.gz -q\n",
        "! tar -xzf elasticsearch-7.9.2-linux-x86_64.tar.gz\n",
        "! chown -R daemon:daemon elasticsearch-7.9.2\n",
        "\n",
        "import os\n",
        "from subprocess import Popen, PIPE, STDOUT\n",
        "es_server = Popen(['elasticsearch-7.9.2/bin/elasticsearch'],\n",
        "                   stdout=PIPE, stderr=STDOUT,\n",
        "                   preexec_fn=lambda: os.setuid(1)  # as daemon\n",
        "                  )\n",
        "! sleep 30"
      ],
      "execution_count": 64,
      "outputs": []
    },
    {
      "cell_type": "code",
      "metadata": {
        "colab": {
          "base_uri": "https://localhost:8080/"
        },
        "id": "ISaohho5GkYy",
        "outputId": "54164f74-4272-4660-df18-139b0e12a896"
      },
      "source": [
        "document_store = ElasticsearchDocumentStore(host=\"localhost\", username=\"\", password=\"\", index=\"document\")"
      ],
      "execution_count": 65,
      "outputs": [
        {
          "output_type": "stream",
          "text": [
            "02/22/2021 21:48:56 - INFO - elasticsearch -   HEAD http://localhost:9200/ [status:200 request:0.030s]\n",
            "02/22/2021 21:48:56 - INFO - elasticsearch -   HEAD http://localhost:9200/document [status:200 request:0.008s]\n",
            "02/22/2021 21:48:56 - INFO - elasticsearch -   GET http://localhost:9200/document [status:200 request:0.002s]\n",
            "02/22/2021 21:48:56 - INFO - elasticsearch -   PUT http://localhost:9200/document/_mapping [status:200 request:0.019s]\n",
            "02/22/2021 21:48:56 - INFO - elasticsearch -   HEAD http://localhost:9200/label [status:200 request:0.002s]\n"
          ],
          "name": "stderr"
        }
      ]
    },
    {
      "cell_type": "code",
      "metadata": {
        "colab": {
          "base_uri": "https://localhost:8080/"
        },
        "id": "pKBkwh_fEVVQ",
        "outputId": "a21ee5fc-987e-4183-f542-d755e37a1c54"
      },
      "source": [
        "# Storing processed data docs to elasticsearch DB\n",
        "document_store.write_documents(processed_docs)"
      ],
      "execution_count": 66,
      "outputs": [
        {
          "output_type": "stream",
          "text": [
            "02/22/2021 21:48:59 - INFO - elasticsearch -   POST http://localhost:9200/_bulk?refresh=wait_for [status:200 request:0.788s]\n"
          ],
          "name": "stderr"
        }
      ]
    },
    {
      "cell_type": "code",
      "metadata": {
        "id": "jOg4zJwwHTYq"
      },
      "source": [
        "# retriever filter\n",
        "retriever = ElasticsearchRetriever(document_store=document_store)"
      ],
      "execution_count": 67,
      "outputs": []
    },
    {
      "cell_type": "code",
      "metadata": {
        "id": "SbH6b9ILHZyI",
        "colab": {
          "base_uri": "https://localhost:8080/"
        },
        "outputId": "76043fcc-06d3-4f55-bb31-9a2d7407f451"
      },
      "source": [
        "# Reader object\n",
        "reader = FARMReader(model_name_or_path=\"deepset/roberta-base-squad2\", use_gpu=True)"
      ],
      "execution_count": 68,
      "outputs": [
        {
          "output_type": "stream",
          "text": [
            "02/22/2021 21:49:04 - INFO - farm.utils -   Using device: CUDA \n",
            "02/22/2021 21:49:04 - INFO - farm.utils -   Number of GPUs: 1\n",
            "02/22/2021 21:49:04 - INFO - farm.utils -   Distributed Training: False\n",
            "02/22/2021 21:49:04 - INFO - farm.utils -   Automatic Mixed Precision: None\n",
            "Some weights of RobertaModel were not initialized from the model checkpoint at deepset/roberta-base-squad2 and are newly initialized: ['roberta.pooler.dense.weight', 'roberta.pooler.dense.bias']\n",
            "You should probably TRAIN this model on a down-stream task to be able to use it for predictions and inference.\n",
            "02/22/2021 21:49:15 - WARNING - farm.utils -   ML Logging is turned off. No parameters, metrics or artifacts will be logged to MLFlow.\n",
            "02/22/2021 21:49:15 - INFO - farm.utils -   Using device: CUDA \n",
            "02/22/2021 21:49:15 - INFO - farm.utils -   Number of GPUs: 1\n",
            "02/22/2021 21:49:15 - INFO - farm.utils -   Distributed Training: False\n",
            "02/22/2021 21:49:15 - INFO - farm.utils -   Automatic Mixed Precision: None\n",
            "02/22/2021 21:49:15 - INFO - farm.infer -   Got ya 2 parallel workers to do inference ...\n",
            "02/22/2021 21:49:15 - INFO - farm.infer -    0    0 \n",
            "02/22/2021 21:49:15 - INFO - farm.infer -   /w\\  /w\\\n",
            "02/22/2021 21:49:15 - INFO - farm.infer -   /'\\  / \\\n",
            "02/22/2021 21:49:15 - INFO - farm.infer -     \n"
          ],
          "name": "stderr"
        }
      ]
    },
    {
      "cell_type": "code",
      "metadata": {
        "id": "rucmD2PtHkOk"
      },
      "source": [
        "# creating pipeline for search\n",
        "pipe = ExtractiveQAPipeline(reader, retriever)"
      ],
      "execution_count": 69,
      "outputs": []
    },
    {
      "cell_type": "code",
      "metadata": {
        "colab": {
          "base_uri": "https://localhost:8080/"
        },
        "id": "_nLZTjF2IWgx",
        "outputId": "381edaf2-ad47-48d2-e09a-c254ddde7032"
      },
      "source": [
        "# takes user Question and return Answer\n",
        "user_query = input('Enter your question:')\n",
        "prediction = pipe.run(query=user_query, top_k_retriever=1)\n",
        "print(prediction)"
      ],
      "execution_count": null,
      "outputs": [
        {
          "output_type": "stream",
          "text": [
            "Enter your question:\"How old was Peyton Manning when he played in Super Bowl 50?\"\n"
          ],
          "name": "stdout"
        },
        {
          "output_type": "stream",
          "text": [
            "02/22/2021 20:59:07 - INFO - elasticsearch -   POST http://localhost:9200/document/_search [status:200 request:0.008s]\n"
          ],
          "name": "stderr"
        },
        {
          "output_type": "stream",
          "text": [
            "{'query': '\"How old was Peyton Manning when he played in Super Bowl 50?\"', 'no_ans_gap': 7.22430944442749, 'answers': [{'answer': '39', 'score': 10.544868469238281, 'probability': 0.7888668478477564, 'context': 'ls. He is also the oldest quarterback ever to play in a Super Bowl at age 39. The past record was held by John Elway, who led the Broncos to victory i', 'offset_start': 74, 'offset_end': 76, 'offset_start_in_doc': 1989, 'offset_end_in_doc': 1991, 'document_id': '7d10edb0-86b1-426c-a74b-aa0d850a7130', 'meta': {'_split_id': 0}}, {'answer': '11-year', 'score': -5.48020601272583, 'probability': 0.3351405315653097, 'context': 'o playo games.\"\\n\"Carolina su ered a major setback when Thomas Davis, an 11-year veteran who had already overcome three ACL tears in his career, went d', 'offset_start': 72, 'offset_end': 79, 'offset_start_in_doc': 1569, 'offset_end_in_doc': 1576, 'document_id': '7d10edb0-86b1-426c-a74b-aa0d850a7130', 'meta': {'_split_id': 0}}, {'answer': 'Broncos', 'score': -9.055356979370117, 'probability': 0.24380701539233357, 'context': '\"The Broncos\\' defense ranked rst in the NFL yards allowed (4,530) for the rst time in franchise history, and fourth in points allowed (296). Defensive', 'offset_start': 5, 'offset_end': 12, 'offset_start_in_doc': 5, 'offset_end_in_doc': 12, 'document_id': '7d10edb0-86b1-426c-a74b-aa0d850a7130', 'meta': {'_split_id': 0}}]}\n"
          ],
          "name": "stdout"
        }
      ]
    },
    {
      "cell_type": "code",
      "metadata": {
        "id": "jK3v3XxQIxJv"
      },
      "source": [
        "doc_index = 'docs'\n",
        "label_index = 'labels'"
      ],
      "execution_count": 70,
      "outputs": []
    },
    {
      "cell_type": "code",
      "metadata": {
        "colab": {
          "base_uri": "https://localhost:8080/"
        },
        "id": "sFEOCY92X4id",
        "outputId": "f8f6f03e-932d-4a79-86d7-1970a4df9721"
      },
      "source": [
        "# evaluation docs loading into elasticsearch\n",
        "document_store.delete_all_documents(index=doc_index)\n",
        "document_store.delete_all_documents(index=label_index)\n",
        "document_store.add_eval_data(filename=f'/content/drive/MyDrive/Colab Notebooks/eval_doc.json', doc_index=doc_index, label_index=label_index)"
      ],
      "execution_count": 71,
      "outputs": [
        {
          "output_type": "stream",
          "text": [
            "02/22/2021 21:49:35 - INFO - elasticsearch -   POST http://localhost:9200/docs/_delete_by_query [status:200 request:0.045s]\n",
            "02/22/2021 21:49:37 - INFO - elasticsearch -   POST http://localhost:9200/labels/_delete_by_query [status:200 request:0.075s]\n",
            "02/22/2021 21:49:39 - INFO - elasticsearch -   HEAD http://localhost:9200/docs [status:200 request:0.002s]\n",
            "02/22/2021 21:49:39 - INFO - elasticsearch -   POST http://localhost:9200/_bulk?refresh=wait_for [status:200 request:0.130s]\n",
            "02/22/2021 21:49:39 - INFO - elasticsearch -   HEAD http://localhost:9200/labels [status:200 request:0.006s]\n",
            "02/22/2021 21:49:40 - INFO - elasticsearch -   POST http://localhost:9200/_bulk?refresh=wait_for [status:200 request:1.085s]\n"
          ],
          "name": "stderr"
        }
      ]
    },
    {
      "cell_type": "code",
      "metadata": {
        "id": "RLCOWGOhjIRp"
      },
      "source": [
        "retriever = ElasticsearchRetriever(document_store=document_store)"
      ],
      "execution_count": 72,
      "outputs": []
    },
    {
      "cell_type": "code",
      "metadata": {
        "colab": {
          "base_uri": "https://localhost:8080/"
        },
        "id": "1W_5EanWrqY7",
        "outputId": "735966f1-892d-4a30-afbd-9e1c490a3a8c"
      },
      "source": [
        "reader = FARMReader(\"deepset/roberta-base-squad2\", top_k_per_candidate=2)"
      ],
      "execution_count": 73,
      "outputs": [
        {
          "output_type": "stream",
          "text": [
            "02/22/2021 21:49:46 - INFO - farm.utils -   Using device: CUDA \n",
            "02/22/2021 21:49:46 - INFO - farm.utils -   Number of GPUs: 1\n",
            "02/22/2021 21:49:46 - INFO - farm.utils -   Distributed Training: False\n",
            "02/22/2021 21:49:46 - INFO - farm.utils -   Automatic Mixed Precision: None\n",
            "Some weights of RobertaModel were not initialized from the model checkpoint at deepset/roberta-base-squad2 and are newly initialized: ['roberta.pooler.dense.weight', 'roberta.pooler.dense.bias']\n",
            "You should probably TRAIN this model on a down-stream task to be able to use it for predictions and inference.\n",
            "02/22/2021 21:49:57 - WARNING - farm.utils -   ML Logging is turned off. No parameters, metrics or artifacts will be logged to MLFlow.\n",
            "02/22/2021 21:49:57 - INFO - farm.utils -   Using device: CUDA \n",
            "02/22/2021 21:49:57 - INFO - farm.utils -   Number of GPUs: 1\n",
            "02/22/2021 21:49:57 - INFO - farm.utils -   Distributed Training: False\n",
            "02/22/2021 21:49:57 - INFO - farm.utils -   Automatic Mixed Precision: None\n",
            "02/22/2021 21:49:57 - INFO - farm.infer -   Got ya 2 parallel workers to do inference ...\n",
            "02/22/2021 21:49:57 - INFO - farm.infer -    0    0 \n",
            "02/22/2021 21:49:57 - INFO - farm.infer -   /w\\  /w\\\n",
            "02/22/2021 21:49:57 - INFO - farm.infer -   /'\\  / \\\n",
            "02/22/2021 21:49:57 - INFO - farm.infer -     \n"
          ],
          "name": "stderr"
        }
      ]
    },
    {
      "cell_type": "code",
      "metadata": {
        "id": "wkhkEGL4rvYY"
      },
      "source": [
        "finder = Finder(reader, retriever)"
      ],
      "execution_count": null,
      "outputs": []
    },
    {
      "cell_type": "code",
      "metadata": {
        "colab": {
          "base_uri": "https://localhost:8080/"
        },
        "id": "lzDRBhwcsA6q",
        "outputId": "09dab0f3-33fd-44cf-b135-04d569dee6b6"
      },
      "source": [
        "# finder evaluation results\n",
        "finder_eval_results = finder.eval(top_k_retriever=1, top_k_reader=10, label_index=label_index, doc_index=doc_index)\n",
        "finder.print_eval_results(finder_eval_results)\n"
      ],
      "execution_count": 77,
      "outputs": [
        {
          "output_type": "stream",
          "text": [
            "02/22/2021 21:50:16 - INFO - elasticsearch -   POST http://localhost:9200/labels/_search?scroll=1d&size=10000 [status:200 request:0.015s]\n",
            "02/22/2021 21:50:16 - INFO - elasticsearch -   POST http://localhost:9200/_search/scroll [status:200 request:0.004s]\n",
            "02/22/2021 21:50:16 - INFO - elasticsearch -   DELETE http://localhost:9200/_search/scroll [status:200 request:0.002s]\n",
            "02/22/2021 21:50:16 - INFO - elasticsearch -   POST http://localhost:9200/docs/_search [status:200 request:0.014s]\n",
            "02/22/2021 21:50:16 - INFO - elasticsearch -   POST http://localhost:9200/docs/_search [status:200 request:0.007s]\n",
            "02/22/2021 21:50:16 - INFO - elasticsearch -   POST http://localhost:9200/docs/_search [status:200 request:0.004s]\n",
            "02/22/2021 21:50:16 - INFO - elasticsearch -   POST http://localhost:9200/docs/_search [status:200 request:0.004s]\n",
            "02/22/2021 21:50:16 - INFO - elasticsearch -   POST http://localhost:9200/docs/_search [status:200 request:0.004s]\n",
            "02/22/2021 21:50:16 - INFO - elasticsearch -   POST http://localhost:9200/docs/_search [status:200 request:0.004s]\n",
            "02/22/2021 21:50:16 - INFO - elasticsearch -   POST http://localhost:9200/docs/_search [status:200 request:0.004s]\n",
            "02/22/2021 21:50:16 - INFO - elasticsearch -   POST http://localhost:9200/docs/_search [status:200 request:0.004s]\n",
            "02/22/2021 21:50:16 - INFO - elasticsearch -   POST http://localhost:9200/docs/_search [status:200 request:0.007s]\n",
            "02/22/2021 21:50:16 - INFO - elasticsearch -   POST http://localhost:9200/docs/_search [status:200 request:0.004s]\n",
            "02/22/2021 21:50:16 - INFO - elasticsearch -   POST http://localhost:9200/docs/_search [status:200 request:0.004s]\n",
            "02/22/2021 21:50:16 - INFO - elasticsearch -   POST http://localhost:9200/docs/_search [status:200 request:0.004s]\n",
            "02/22/2021 21:50:16 - INFO - elasticsearch -   POST http://localhost:9200/docs/_search [status:200 request:0.005s]\n",
            "02/22/2021 21:50:16 - INFO - elasticsearch -   POST http://localhost:9200/docs/_search [status:200 request:0.004s]\n",
            "02/22/2021 21:50:16 - INFO - elasticsearch -   POST http://localhost:9200/docs/_search [status:200 request:0.004s]\n",
            "02/22/2021 21:50:16 - INFO - elasticsearch -   POST http://localhost:9200/docs/_search [status:200 request:0.003s]\n",
            "02/22/2021 21:50:16 - INFO - elasticsearch -   POST http://localhost:9200/docs/_search [status:200 request:0.004s]\n",
            "02/22/2021 21:50:18 - INFO - haystack.finder -   16.0 out of 17 questions were correctly answered 94.12%).\n",
            "02/22/2021 21:50:18 - INFO - haystack.finder -   0.0 questions could not be answered due to the retriever.\n",
            "02/22/2021 21:50:18 - INFO - haystack.finder -   1.0 questions could not be answered due to the reader.\n"
          ],
          "name": "stderr"
        },
        {
          "output_type": "stream",
          "text": [
            "\n",
            "___Retriever Metrics in Finder___\n",
            "Retriever Recall            : 1.000\n",
            "Retriever Mean Avg Precision: 1.000\n",
            "Retriever Mean Reciprocal Rank: 1.000\n",
            "\n",
            "___Reader Metrics in Finder___\n",
            "Top-k accuracy\n",
            "Reader Top-1 accuracy             : 0.941\n",
            "Reader Top-1 accuracy (has answer): 0.941\n",
            "Reader Top-k accuracy             : 0.941\n",
            "Reader Top-k accuracy (has answer): 0.941\n",
            "Exact Match\n",
            "Reader Top-1 EM                   : 0.941\n",
            "Reader Top-1 EM (has answer)      : 0.941\n",
            "Reader Top-k EM                   : 0.941\n",
            "Reader Top-k EM (has answer)      : 0.941\n",
            "F1 score\n",
            "Reader Top-1 F1                   : 0.941\n",
            "Reader Top-1 F1 (has answer)      : 0.941\n",
            "Reader Top-k F1                   : 0.941\n",
            "Reader Top-k F1 (has answer)      : 0.941\n",
            "\n",
            "___Time Measurements___\n",
            "Total retrieve time           : 0.110\n",
            "Avg retrieve time per question: 0.006\n",
            "Total reader timer            : 2.476\n",
            "Avg read time per question    : 0.146\n",
            "Total Finder time             : 2.615\n"
          ],
          "name": "stdout"
        }
      ]
    }
  ]
}